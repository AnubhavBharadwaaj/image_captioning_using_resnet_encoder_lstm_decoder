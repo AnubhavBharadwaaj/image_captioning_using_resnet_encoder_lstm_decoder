{
 "cells": [
  {
   "cell_type": "code",
   "execution_count": 1,
   "metadata": {
    "collapsed": false
   },
   "outputs": [
    {
     "name": "stdout",
     "output_type": "stream",
     "text": [
      "Requirement already satisfied: nltk in /opt/conda/lib/python3.6/site-packages\n",
      "Requirement already satisfied: six in /opt/conda/lib/python3.6/site-packages (from nltk)\n",
      "\u001b[33mYou are using pip version 9.0.1, however version 18.0 is available.\n",
      "You should consider upgrading via the 'pip install --upgrade pip' command.\u001b[0m\n",
      "[nltk_data] Downloading package punkt to /root/nltk_data...\n",
      "[nltk_data]   Unzipping tokenizers/punkt.zip.\n",
      "loading annotations into memory...\n",
      "Done (t=1.10s)\n",
      "creating index...\n",
      "index created!\n",
      "[0/414113] Tokenizing captions...\n",
      "[100000/414113] Tokenizing captions...\n",
      "[200000/414113] Tokenizing captions...\n",
      "[300000/414113] Tokenizing captions...\n",
      "[400000/414113] Tokenizing captions...\n",
      "loading annotations into memory...\n",
      "Done (t=0.84s)\n",
      "creating index...\n"
     ]
    },
    {
     "name": "stderr",
     "output_type": "stream",
     "text": [
      "  0%|          | 1276/414113 [00:00<01:04, 6374.43it/s]"
     ]
    },
    {
     "name": "stdout",
     "output_type": "stream",
     "text": [
      "index created!\n",
      "Obtaining caption lengths...\n"
     ]
    },
    {
     "name": "stderr",
     "output_type": "stream",
     "text": [
      "100%|██████████| 414113/414113 [01:03<00:00, 6471.12it/s]\n"
     ]
    }
   ],
   "source": [
    "import sys\n",
    "sys.path.append('/opt/cocoapi/PythonAPI')\n",
    "from pycocotools.coco import COCO\n",
    "!pip install nltk\n",
    "import nltk\n",
    "nltk.download('punkt')\n",
    "from data_loader import get_loader\n",
    "from torchvision import transforms\n",
    "\n",
    "transform_train = transforms.Compose([ \n",
    "    transforms.Resize(256),                          \n",
    "    transforms.RandomCrop(224),                      \n",
    "    transforms.RandomHorizontalFlip(),               \n",
    "    transforms.ToTensor(),                           \n",
    "    transforms.Normalize((0.485, 0.456, 0.406),      \n",
    "                         (0.229, 0.224, 0.225))])\n",
    "\n",
    "vocab_threshold = 6\n",
    "\n",
    "batch_size = 10\n",
    "\n",
    "data_loader = get_loader(transform=transform_train,\n",
    "                         mode='train',\n",
    "                         batch_size=batch_size,\n",
    "                         vocab_threshold=vocab_threshold,\n",
    "                         vocab_from_file=False)"
   ]
  },
  {
   "cell_type": "code",
   "execution_count": 2,
   "metadata": {
    "collapsed": false
   },
   "outputs": [
   ],
   "source": [
    "sample_caption = 'A person doing a trick on a rail while riding a skateboard.'"
   ]
  },
  {
   "cell_type": "code",
   "execution_count": 3,
   "metadata": {
    "collapsed": false
   },
   "outputs": [
    {
     "name": "stdout",
     "output_type": "stream",
     "text": [
      "['a', 'person', 'doing', 'a', 'trick', 'on', 'a', 'rail', 'while', 'riding', 'a', 'skateboard', '.']\n"
     ]
    }
   ],
   "source": [
    "import nltk\n",
    "\n",
    "sample_tokens = nltk.tokenize.word_tokenize(str(sample_caption).lower())\n",
    "print(sample_tokens)"
   ]
  },
  {
   "cell_type": "code",
   "execution_count": 4,
   "metadata": {
    "collapsed": false
   },
   "outputs": [
    {
     "name": "stdout",
     "output_type": "stream",
     "text": [
      "Special start word: <start>\n",
      "[0]\n"
     ]
    }
   ],
   "source": [
    "sample_caption = []\n",
    "\n",
    "start_word = data_loader.dataset.vocab.start_word\n",
    "print('Special start word:', start_word)\n",
    "sample_caption.append(data_loader.dataset.vocab(start_word))\n",
    "print(sample_caption)"
   ]
  },
  {
   "cell_type": "code",
   "execution_count": 5,
   "metadata": {
    "collapsed": false
   },
   "outputs": [
    {
     "name": "stdout",
     "output_type": "stream",
     "text": [
      "[0, 3, 98, 750, 3, 395, 39, 3, 1002, 207, 139, 3, 749, 18]\n"
     ]
    }
   ],
   "source": [
    "sample_caption.extend([data_loader.dataset.vocab(token) for token in sample_tokens])\n",
    "print(sample_caption)"
   ]
  },
  {
   "cell_type": "code",
   "execution_count": 6,
   "metadata": {
    "collapsed": false
   },
   "outputs": [
    {
     "name": "stdout",
     "output_type": "stream",
     "text": [
      "Special end word: <end>\n",
      "[0, 3, 98, 750, 3, 395, 39, 3, 1002, 207, 139, 3, 749, 18, 1]\n"
     ]
    }
   ],
   "source": [
    "end_word = data_loader.dataset.vocab.end_word\n",
    "print('Special end word:', end_word)\n",
    "\n",
    "sample_caption.append(data_loader.dataset.vocab(end_word))\n",
    "print(sample_caption)"
   ]
  },
  {
   "cell_type": "code",
   "execution_count": 7,
   "metadata": {
    "collapsed": false
   },
   "outputs": [
    {
     "name": "stdout",
     "output_type": "stream",
     "text": [
      "tensor([    0,     3,    98,   750,     3,   395,    39,     3,  1002,\n",
      "          207,   139,     3,   749,    18,     1])\n"
     ]
    }
   ],
   "source": [
    "import torch\n",
    "\n",
    "sample_caption = torch.Tensor(sample_caption).long()\n",
    "print(sample_caption)"
   ]
  },
  {
   "cell_type": "code",
   "execution_count": 8,
   "metadata": {
    "collapsed": false
   },
   "outputs": [
    {
     "data": {
      "text/plain": [
       "{'<end>': 1,\n",
       " '<start>': 0,\n",
       " '<unk>': 2,\n",
       " 'a': 3,\n",
       " 'and': 6,\n",
       " 'clean': 5,\n",
       " 'decorated': 8,\n",
       " 'empty': 9,\n",
       " 'very': 4,\n",
       " 'well': 7}"
      ]
     },
     "execution_count": 8,
     "metadata": {
     },
     "output_type": "execute_result"
    }
   ],
   "source": [
    "dict(list(data_loader.dataset.vocab.word2idx.items())[:10])"
   ]
  },
  {
   "cell_type": "code",
   "execution_count": 9,
   "metadata": {
    "collapsed": false
   },
   "outputs": [
    {
     "name": "stdout",
     "output_type": "stream",
     "text": [
      "Total number of tokens in vocabulary: 8099\n"
     ]
    }
   ],
   "source": [
    "# Print the total number of keys in the word2idx dictionary.\n",
    "print('Total number of tokens in vocabulary:', len(data_loader.dataset.vocab))"
   ]
  },
  {
   "cell_type": "code",
   "execution_count": 10,
   "metadata": {
    "collapsed": false
   },
   "outputs": [
    {
     "name": "stdout",
     "output_type": "stream",
     "text": [
      "loading annotations into memory...\n",
      "Done (t=0.83s)\n",
      "creating index...\n",
      "index created!\n",
      "[0/414113] Tokenizing captions...\n",
      "[100000/414113] Tokenizing captions...\n",
      "[200000/414113] Tokenizing captions...\n",
      "[300000/414113] Tokenizing captions...\n",
      "[400000/414113] Tokenizing captions...\n",
      "loading annotations into memory...\n"
     ]
    },
    {
     "name": "stderr",
     "output_type": "stream",
     "text": [
      "  0%|          | 1319/414113 [00:00<01:02, 6593.53it/s]"
     ]
    },
    {
     "name": "stdout",
     "output_type": "stream",
     "text": [
      "Done (t=0.83s)\n",
      "creating index...\n",
      "index created!\n",
      "Obtaining caption lengths...\n"
     ]
    },
    {
     "name": "stderr",
     "output_type": "stream",
     "text": [
      "100%|██████████| 414113/414113 [01:04<00:00, 6419.93it/s]\n"
     ]
    }
   ],
   "source": [
    "# Modify the minimum word count threshold.\n",
    "vocab_threshold = 6\n",
    "\n",
    "# Obtain the data loader.\n",
    "data_loader = get_loader(transform=transform_train,\n",
    "                         mode='train',\n",
    "                         batch_size=batch_size,\n",
    "                         vocab_threshold=vocab_threshold,\n",
    "                         vocab_from_file=False)"
   ]
  },
  {
   "cell_type": "code",
   "execution_count": 11,
   "metadata": {
    "collapsed": false
   },
   "outputs": [
    {
     "name": "stdout",
     "output_type": "stream",
     "text": [
      "Total number of tokens in vocabulary: 8099\n"
     ]
    }
   ],
   "source": [
    "print('Total number of tokens in vocabulary:', len(data_loader.dataset.vocab))"
   ]
  },
  {
   "cell_type": "code",
   "execution_count": 12,
   "metadata": {
    "collapsed": false
   },
   "outputs": [
    {
     "name": "stdout",
     "output_type": "stream",
     "text": [
      "Special unknown word: <unk>\n",
      "All unknown words are mapped to this integer: 2\n"
     ]
    }
   ],
   "source": [
    "unk_word = data_loader.dataset.vocab.unk_word\n",
    "print('Special unknown word:', unk_word)\n",
    "\n",
    "print('All unknown words are mapped to this integer:', data_loader.dataset.vocab(unk_word))"
   ]
  },
  {
   "cell_type": "code",
   "execution_count": 13,
   "metadata": {
    "collapsed": false
   },
   "outputs": [
    {
     "name": "stdout",
     "output_type": "stream",
     "text": [
      "2\n",
      "2\n"
     ]
    }
   ],
   "source": [
    "print(data_loader.dataset.vocab('jfkafejw'))\n",
    "print(data_loader.dataset.vocab('ieowoqjf'))"
   ]
  },
  {
   "cell_type": "code",
   "execution_count": 14,
   "metadata": {
    "collapsed": false
   },
   "outputs": [
    {
     "name": "stdout",
     "output_type": "stream",
     "text": [
      "Vocabulary successfully loaded from vocab.pkl file!\n",
      "loading annotations into memory...\n",
      "Done (t=0.96s)\n",
      "creating index...\n",
      "index created!\n",
      "Obtaining caption lengths...\n"
     ]
    },
    {
     "name": "stderr",
     "output_type": "stream",
     "text": [
      "100%|██████████| 414113/414113 [01:04<00:00, 6410.84it/s]\n"
     ]
    }
   ],
   "source": [
    "# Obtain the data loader (from file). Note that it runs much faster than before!\n",
    "data_loader = get_loader(transform=transform_train,\n",
    "                         mode='train',\n",
    "                         batch_size=batch_size,\n",
    "                         vocab_from_file=True)"
   ]
  },
  {
   "cell_type": "code",
   "execution_count": 15,
   "metadata": {
    "collapsed": false
   },
   "outputs": [
    {
     "name": "stdout",
     "output_type": "stream",
     "text": [
      "value: 10 --- count: 86334\n",
      "value: 11 --- count: 79948\n",
      "value:  9 --- count: 71934\n",
      "value: 12 --- count: 57637\n",
      "value: 13 --- count: 37645\n",
      "value: 14 --- count: 22335\n",
      "value:  8 --- count: 20771\n",
      "value: 15 --- count: 12841\n",
      "value: 16 --- count:  7729\n",
      "value: 17 --- count:  4842\n",
      "value: 18 --- count:  3104\n",
      "value: 19 --- count:  2014\n",
      "value:  7 --- count:  1597\n",
      "value: 20 --- count:  1451\n",
      "value: 21 --- count:   999\n",
      "value: 22 --- count:   683\n",
      "value: 23 --- count:   534\n",
      "value: 24 --- count:   383\n",
      "value: 25 --- count:   277\n",
      "value: 26 --- count:   215\n",
      "value: 27 --- count:   159\n",
      "value: 28 --- count:   115\n",
      "value: 29 --- count:    86\n",
      "value: 30 --- count:    58\n",
      "value: 31 --- count:    49\n",
      "value: 32 --- count:    44\n",
      "value: 34 --- count:    39\n",
      "value: 37 --- count:    32\n",
      "value: 33 --- count:    31\n",
      "value: 35 --- count:    31\n",
      "value: 36 --- count:    26\n",
      "value: 38 --- count:    18\n",
      "value: 39 --- count:    18\n",
      "value: 43 --- count:    16\n",
      "value: 44 --- count:    16\n",
      "value: 48 --- count:    12\n",
      "value: 45 --- count:    11\n",
      "value: 42 --- count:    10\n",
      "value: 40 --- count:     9\n",
      "value: 49 --- count:     9\n",
      "value: 46 --- count:     9\n",
      "value: 47 --- count:     7\n",
      "value: 50 --- count:     6\n",
      "value: 51 --- count:     6\n",
      "value: 41 --- count:     6\n",
      "value: 52 --- count:     5\n",
      "value: 54 --- count:     3\n",
      "value: 56 --- count:     2\n",
      "value:  6 --- count:     2\n",
      "value: 53 --- count:     2\n",
      "value: 55 --- count:     2\n",
      "value: 57 --- count:     1\n"
     ]
    }
   ],
   "source": [
    "from collections import Counter\n",
    "\n",
    "counter = Counter(data_loader.dataset.caption_lengths)\n",
    "lengths = sorted(counter.items(), key=lambda pair: pair[1], reverse=True)\n",
    "for value, count in lengths:\n",
    "    print('value: %2d --- count: %5d' % (value, count))"
   ]
  },
  {
   "cell_type": "code",
   "execution_count": 16,
   "metadata": {
    "collapsed": false
   },
   "outputs": [
    {
     "name": "stdout",
     "output_type": "stream",
     "text": [
      "sampled indices: [382956, 263820, 10311, 357542, 123881, 253881, 196237, 46303, 404024, 243578]\n",
      "images.shape: torch.Size([10, 3, 224, 224])\n",
      "captions.shape: torch.Size([10, 12])\n",
      "images: tensor([[[[-0.2513, -0.2342, -0.2171,  ..., -1.1418, -1.1247, -1.1075],\n",
      "          [-0.2342, -0.2342, -0.2342,  ..., -1.1247, -1.1075, -1.0904],\n",
      "          [-0.1999, -0.2171, -0.2342,  ..., -1.0904, -1.1247, -1.1075],\n",
      "          ...,\n",
      "          [-1.8782, -1.7583, -1.7069,  ..., -1.2959, -1.2103, -1.6555],\n",
      "          [-1.8268, -1.5528, -1.7583,  ..., -0.6965, -0.5938, -0.9192],\n",
      "          [-1.7412, -1.3473, -1.5699,  ..., -0.6965, -0.6794, -0.6109]],\n",
      "\n",
      "         [[ 0.8179,  0.8354,  0.8354,  ...,  0.2402,  0.2402,  0.2577],\n",
      "          [ 0.8354,  0.8354,  0.8529,  ...,  0.2402,  0.2577,  0.2927],\n",
      "          [ 0.8704,  0.8529,  0.8354,  ...,  0.2752,  0.2577,  0.2752],\n",
      "          ...,\n",
      "          [-1.7381, -1.6155, -1.4580,  ..., -1.1253, -1.0028, -1.4580],\n",
      "          [-1.6856, -1.2654, -1.4405,  ..., -0.3901, -0.2325, -0.4951],\n",
      "          [-1.4755, -0.9328, -1.1078,  ..., -0.1800, -0.1625, -0.0924]],\n",
      "\n",
      "         [[ 2.5703,  2.5877,  2.5877,  ...,  2.3611,  2.3437,  2.3263],\n",
      "          [ 2.5877,  2.5877,  2.5877,  ...,  2.3786,  2.3786,  2.3786],\n",
      "          [ 2.6051,  2.6051,  2.5877,  ...,  2.3960,  2.3611,  2.3786],\n",
      "          ...,\n",
      "          [-1.3687, -1.2467, -1.2293,  ..., -0.7587, -0.5495, -1.0201],\n",
      "          [-1.2816, -0.9678, -1.2119,  ..., -0.3927, -0.3404, -0.7238],\n",
      "          [-1.3164, -0.9504, -1.2119,  ..., -0.8458, -0.7413, -0.6018]]],\n",
      "\n",
      "\n",
      "        [[[ 0.6049,  0.6563,  0.6563,  ...,  1.2043,  1.2385,  1.2557],\n",
      "          [ 0.6734,  0.6049,  0.6906,  ...,  1.2899,  1.2728,  1.2557],\n",
      "          [ 0.6734,  0.6392,  0.6906,  ...,  1.2557,  1.2728,  1.2385],\n",
      "          ...,\n",
      "          [ 1.8893,  1.9064,  1.9064,  ...,  0.5878,  0.6049,  0.6221],\n",
      "          [ 1.8722,  1.9064,  1.9064,  ...,  0.6221,  0.6221,  0.6221],\n",
      "          [ 1.8893,  1.8893,  1.9064,  ...,  0.6734,  0.6221,  0.6563]],\n",
      "\n",
      "         [[ 0.7479,  0.8004,  0.8004,  ...,  1.3606,  1.3957,  1.4132],\n",
      "          [ 0.8179,  0.7479,  0.8354,  ...,  1.4482,  1.4307,  1.4132],\n",
      "          [ 0.8179,  0.7829,  0.8354,  ...,  1.4132,  1.4307,  1.3957],\n",
      "          ...,\n",
      "          [ 2.0609,  2.0784,  2.0784,  ...,  0.7304,  0.7479,  0.7654],\n",
      "          [ 2.0434,  2.0784,  2.0784,  ...,  0.7654,  0.7654,  0.7654],\n",
      "          [ 2.0609,  2.0609,  2.0784,  ...,  0.8179,  0.7654,  0.8004]],\n",
      "\n",
      "         [[ 0.9668,  1.0191,  1.0191,  ...,  1.5768,  1.6117,  1.6291],\n",
      "          [ 1.0365,  0.9668,  1.0539,  ...,  1.6640,  1.6465,  1.6291],\n",
      "          [ 1.0365,  1.0017,  1.0539,  ...,  1.6291,  1.6465,  1.6117],\n",
      "          ...,\n",
      "          [ 2.2740,  2.2914,  2.2914,  ...,  0.9494,  0.9668,  0.9842],\n",
      "          [ 2.2566,  2.2914,  2.2914,  ...,  0.9842,  0.9842,  0.9842],\n",
      "          [ 2.2740,  2.2740,  2.2914,  ...,  1.0365,  0.9842,  1.0191]]],\n",
      "\n",
      "\n",
      "        [[[ 0.2453,  0.1426,  0.1768,  ...,  1.0844,  1.0502,  1.0331],\n",
      "          [ 0.4166,  0.3138,  0.2453,  ...,  1.1187,  1.1187,  1.0673],\n",
      "          [ 0.2796,  0.3652,  0.3823,  ...,  1.1358,  1.1529,  1.1187],\n",
      "          ...,\n",
      "          [ 0.1939,  0.2624,  0.5364,  ..., -0.3369,  0.6906, -0.1657],\n",
      "          [ 0.3823,  0.2624, -0.1314,  ...,  0.3652,  0.4679, -0.9192],\n",
      "          [ 0.2282, -0.4226, -0.7308,  ...,  0.0398, -0.2171, -0.5767]],\n",
      "\n",
      "         [[ 0.3803,  0.2577,  0.2927,  ...,  1.4307,  1.4132,  1.3957],\n",
      "          [ 0.5203,  0.4328,  0.3803,  ...,  1.4482,  1.4482,  1.4132],\n",
      "          [ 0.4678,  0.5028,  0.5203,  ...,  1.4657,  1.4832,  1.4482],\n",
      "          ...,\n",
      "          [ 0.2577,  0.2927,  0.5553,  ..., -0.2675,  0.5903, -0.1800],\n",
      "          [ 0.4678,  0.3627, -0.1099,  ...,  0.2927,  0.3102, -0.8803],\n",
      "          [ 0.3102, -0.3200, -0.6352,  ..., -0.0924, -0.3550, -0.6702]],\n",
      "\n",
      "         [[ 0.6008,  0.5311,  0.5834,  ...,  1.8557,  1.8383,  1.8208],\n",
      "          [ 0.7228,  0.6879,  0.6182,  ...,  1.8731,  1.8731,  1.8383],\n",
      "          [ 0.7576,  0.7925,  0.7751,  ...,  1.8905,  1.9080,  1.8731],\n",
      "          ...,\n",
      "          [-1.3164, -1.2816, -1.6476,  ..., -1.2816, -1.5604, -1.4036],\n",
      "          [-1.6302, -1.6650, -1.4733,  ..., -0.7761, -1.3164, -1.4384],\n",
      "          [-1.6999, -1.4907, -1.2990,  ..., -1.3513, -1.1770, -1.0376]]],\n",
      "\n",
      "\n",
      "        ...,\n",
      "\n",
      "\n",
      "        [[[ 0.1939,  0.0912,  0.2967,  ...,  2.1462,  2.1462,  2.1462],\n",
      "          [ 0.2282,  0.2282,  0.5022,  ...,  2.1462,  2.1462,  2.1462],\n",
      "          [ 0.1597,  0.1254,  0.3652,  ...,  2.1462,  2.1462,  2.1462],\n",
      "          ...,\n",
      "          [-1.8268, -1.8268, -1.8268,  ...,  2.0263,  1.9920,  1.7009],\n",
      "          [-1.8097, -1.7925, -1.7754,  ...,  2.0605,  1.9920,  1.6495],\n",
      "          [-1.8610, -1.8268, -1.7925,  ...,  2.0605,  2.0092,  1.6838]],\n",
      "\n",
      "         [[-0.5301, -0.6352, -0.3901,  ...,  1.6758,  1.6583,  1.6583],\n",
      "          [-0.4776, -0.5301, -0.1975,  ...,  1.6583,  1.6583,  1.6583],\n",
      "          [-0.5476, -0.6352, -0.3725,  ...,  1.6583,  1.6583,  1.6583],\n",
      "          ...,\n",
      "          [-1.9657, -1.9657, -1.9657,  ...,  0.9755,  0.9055,  0.6604],\n",
      "          [-1.9657, -1.9307, -1.9307,  ...,  0.9580,  0.9055,  0.6254],\n",
      "          [-1.9482, -1.9132, -1.9307,  ...,  0.9405,  0.8880,  0.6779]],\n",
      "\n",
      "         [[-1.0201, -1.1770, -0.9330,  ...,  1.0017,  1.0191,  1.0191],\n",
      "          [-0.9853, -1.0550, -0.7761,  ...,  1.0191,  1.0191,  1.0191],\n",
      "          [-1.0027, -1.0724, -0.8807,  ...,  1.0191,  1.0365,  1.0191],\n",
      "          ...,\n",
      "          [-1.7522, -1.7870, -1.7870,  ..., -0.3404, -0.4275, -0.5844],\n",
      "          [-1.7522, -1.7522, -1.7522,  ..., -0.3753, -0.4624, -0.6018],\n",
      "          [-1.7696, -1.7522, -1.7522,  ..., -0.4450, -0.4624, -0.4973]]],\n",
      "\n",
      "\n",
      "        [[[ 1.2214,  1.1700,  1.2043,  ...,  0.5536,  0.4508,  0.4679],\n",
      "          [ 1.2043,  1.2214,  1.1700,  ...,  0.5022,  0.0227,  0.0569],\n",
      "          [ 1.1700,  1.2214,  1.2043,  ...,  0.2624, -0.5253, -0.8678],\n",
      "          ...,\n",
      "          [ 0.5878,  0.5878,  0.6221,  ...,  0.4851,  0.5022,  0.4851],\n",
      "          [ 0.5707,  0.5878,  0.6563,  ...,  0.5022,  0.4679,  0.4679],\n",
      "          [ 0.6049,  0.6049,  0.6221,  ...,  0.4679,  0.4166,  0.4679]],\n",
      "\n",
      "         [[ 1.3957,  1.3957,  1.3957,  ...,  0.7479,  0.6254,  0.6429],\n",
      "          [ 1.3782,  1.3957,  1.4132,  ...,  0.7304,  0.2052,  0.2052],\n",
      "          [ 1.3957,  1.4132,  1.3957,  ...,  0.4153, -0.3375, -0.6001],\n",
      "          ...,\n",
      "          [ 0.8354,  0.8529,  0.8354,  ...,  0.6078,  0.6078,  0.6254],\n",
      "          [ 0.8704,  0.8529,  0.8529,  ...,  0.6254,  0.6429,  0.6078],\n",
      "          [ 0.9055,  0.8179,  0.8004,  ...,  0.6429,  0.6604,  0.6078]],\n",
      "\n",
      "         [[ 1.4374,  1.4548,  1.4897,  ...,  1.1411,  0.9842,  0.9842],\n",
      "          [ 1.4722,  1.4374,  1.4548,  ...,  1.1411,  0.6008,  0.6182],\n",
      "          [ 1.4548,  1.4722,  1.4897,  ...,  0.8099,  0.2522, -0.2010],\n",
      "          ...,\n",
      "          [ 1.1934,  1.1585,  1.1585,  ...,  0.9842,  1.0017,  1.0191],\n",
      "          [ 1.1934,  1.2108,  1.2108,  ...,  1.0017,  1.0017,  0.9668],\n",
      "          [ 1.2282,  1.2457,  1.2108,  ...,  1.0191,  0.9842,  0.9494]]],\n",
      "\n",
      "\n",
      "        [[[-1.6555, -1.6898, -1.7069,  ..., -2.1008, -2.1008, -2.1008],\n",
      "          [-1.6555, -1.6555, -1.6727,  ..., -2.0837, -2.1008, -2.1008],\n",
      "          [-1.6213, -1.6384, -1.6384,  ..., -2.0837, -2.1179, -2.1008],\n",
      "          ...,\n",
      "          [ 1.2557,  1.1529,  1.7352,  ...,  2.0605,  2.0263,  1.3755],\n",
      "          [ 1.1700,  1.7694,  1.9920,  ...,  2.0434,  2.0777,  1.7523],\n",
      "          [ 1.6495,  2.0092,  1.8550,  ...,  1.9578,  2.1290,  1.9749]],\n",
      "\n",
      "         [[ 0.1001,  0.1001,  0.1001,  ..., -0.1275, -0.1275, -0.1275],\n",
      "          [ 0.1001,  0.1352,  0.1176,  ..., -0.1099, -0.1275, -0.1275],\n",
      "          [ 0.1001,  0.1001,  0.1176,  ..., -0.1099, -0.1450, -0.1275],\n",
      "          ...,\n",
      "          [ 1.4832,  1.3957,  1.9559,  ...,  2.2710,  2.1660,  1.5532],\n",
      "          [ 1.4132,  1.9559,  2.1660,  ...,  2.2360,  2.2535,  1.9034],\n",
      "          [ 1.8508,  2.1835,  2.0259,  ...,  2.1310,  2.2535,  2.1134]],\n",
      "\n",
      "         [[ 1.5245,  1.5245,  1.5071,  ...,  1.3677,  1.3677,  1.3677],\n",
      "          [ 1.5071,  1.5420,  1.5245,  ...,  1.3677,  1.3502,  1.3677],\n",
      "          [ 1.5245,  1.5245,  1.5245,  ...,  1.3851,  1.3502,  1.3677],\n",
      "          ...,\n",
      "          [ 1.8905,  1.8208,  2.2391,  ...,  2.4483,  2.3611,  1.9254],\n",
      "          [ 1.8208,  2.2217,  2.3611,  ...,  2.4134,  2.4134,  2.1868],\n",
      "          [ 2.0997,  2.3437,  2.2740,  ...,  2.3437,  2.4308,  2.3611]]]])\n",
      "captions: tensor([[    0,     3,   762,   534,    21,     3,   210,    13,    51,\n",
      "             6,   268,     1],\n",
      "        [    0,     3,     4,   796,    60,  1806,    21,   251,   796,\n",
      "           757,    18,     1],\n",
      "        [    0,   733,    12,    13,  5408,   849,   883,   416,  4109,\n",
      "          3495,    18,     1],\n",
      "        [    0,     3,   277,    64,   105,   236,  1714,   161,     3,\n",
      "          1990,    18,     1],\n",
      "        [    0,     3,   253,   894,  2297,  1545,   914,    77,     3,\n",
      "          4076,    18,     1],\n",
      "        [    0,   365,  2420,  2432,    34,     3,   733,  5893,   111,\n",
      "             3,  1642,     1],\n",
      "        [    0,     3,    28,    21,   251,   759,   384,     6,     3,\n",
      "            57,    18,     1],\n",
      "        [    0,     3,    98,  1474,    77,  3682,   459,     3,  3739,\n",
      "          1234,    18,     1],\n",
      "        [    0,    51,    52,   175,  4611,     6,   230,   294,   161,\n",
      "           511,    18,     1],\n",
      "        [    0,    50,   343,    52,   974,    54,     3,  7035,   512,\n",
      "           441,    18,     1]])\n"
     ]
    }
   ],
   "source": [
    "import numpy as np\n",
    "import torch.utils.data as data\n",
    "\n",
    "indices = data_loader.dataset.get_train_indices()\n",
    "print('sampled indices:', indices)\n",
    "\n",
    "new_sampler = data.sampler.SubsetRandomSampler(indices=indices)\n",
    "data_loader.batch_sampler.sampler = new_sampler\n",
    "    \n",
    "images, captions = next(iter(data_loader))\n",
    "    \n",
    "print('images.shape:', images.shape)\n",
    "print('captions.shape:', captions.shape)\n",
    "\n",
    "print('images:', images)\n",
    "print('captions:', captions)"
   ]
  },
  {
   "cell_type": "code",
   "execution_count": 18,
   "metadata": {
    "collapsed": false
   },
   "outputs": [
    {
     "name": "stdout",
     "output_type": "stream",
     "text": [
      "The autoreload extension is already loaded. To reload it, use:\n",
      "  %reload_ext autoreload\n"
     ]
    }
   ],
   "source": [
    "% load_ext autoreload\n",
    "% autoreload 2\n",
    "\n",
    "from model import EncoderCNN, DecoderRNN"
   ]
  },
  {
   "cell_type": "code",
   "execution_count": 19,
   "metadata": {
    "collapsed": false
   },
   "outputs": [
   ],
   "source": [
    "device = torch.device(\"cuda\" if torch.cuda.is_available() else \"cpu\")"
   ]
  },
  {
   "cell_type": "code",
   "execution_count": 20,
   "metadata": {
    "collapsed": false
   },
   "outputs": [
    {
     "name": "stderr",
     "output_type": "stream",
     "text": [
      "Downloading: \"https://download.pytorch.org/models/resnet50-19c8e357.pth\" to /root/.torch/models/resnet50-19c8e357.pth\n",
      "100%|██████████| 102502400/102502400 [00:01<00:00, 90797129.97it/s]\n"
     ]
    },
    {
     "name": "stdout",
     "output_type": "stream",
     "text": [
      "type(features): <class 'torch.Tensor'>\n",
      "features.shape: torch.Size([10, 512])\n"
     ]
    }
   ],
   "source": [
    "embed_size = 512\n",
    "encoder = EncoderCNN(embed_size)\n",
    "\n",
    "encoder.to(device)\n",
    "images = images.to(device)\n",
    "features = encoder(images)\n",
    "\n",
    "print('type(features):', type(features))\n",
    "print('features.shape:', features.shape)\n",
    "assert type(features)==torch.Tensor, \"Encoder output needs to be a PyTorch Tensor.\" \n",
    "assert (features.shape[0]==batch_size) & (features.shape[1]==embed_size), \"The shape of the encoder output is incorrect.\""
   ]
  },
  {
   "cell_type": "code",
   "execution_count": 23,
   "metadata": {
    "collapsed": false
   },
   "outputs": [
    {
     "name": "stdout",
     "output_type": "stream",
     "text": [
      "type(outputs): <class 'torch.Tensor'>\n",
      "outputs.shape: torch.Size([10, 12, 8099])\n"
     ]
    }
   ],
   "source": [
    "hidden_size = 512\n",
    "vocab_size = len(data_loader.dataset.vocab)\n",
    "decoder = DecoderRNN(embed_size, hidden_size, vocab_size)\n",
    "decoder.to(device)\n",
    "captions = captions.to(device)\n",
    "outputs = decoder(features, captions)\n",
    "\n",
    "print('type(outputs):', type(outputs))\n",
    "print('outputs.shape:', outputs.shape)\n",
    "assert type(outputs)==torch.Tensor, \"Decoder output needs to be a PyTorch Tensor.\"\n",
    "assert (outputs.shape[0]==batch_size) & (outputs.shape[1]==captions.shape[1]) & (outputs.shape[2]==vocab_size), \"The shape of the decoder output is incorrect.\""
   ]
  }
 ],
 "metadata": {
  "anaconda-cloud": {
  },
  "kernelspec": {
   "display_name": "Python 3 (Ubuntu Linux)",
   "language": "python",
   "name": "python3"
  },
  "language_info": {
   "codemirror_mode": {
    "name": "ipython",
    "version": 3
   },
   "file_extension": ".py",
   "mimetype": "text/x-python",
   "name": "python",
   "nbconvert_exporter": "python",
   "pygments_lexer": "ipython3",
   "version": "3.6.7"
  }
 },
 "nbformat": 4,
 "nbformat_minor": 0
}